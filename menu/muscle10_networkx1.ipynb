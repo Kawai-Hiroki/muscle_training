{
 "cells": [
  {
   "cell_type": "markdown",
   "metadata": {
    "colab_type": "text",
    "id": "VsT_BXRu7_xJ"
   },
   "source": [
    "# Python言語によるビジネスアナリティクス\n",
    "## 実務家のための最適化，統計分析，機械学習（近代科学社）\n",
    "\n",
    "## ネットワークモジュールNetworkX"
   ]
  },
  {
   "cell_type": "code",
   "execution_count": null,
   "metadata": {
    "colab": {},
    "colab_type": "code",
    "id": "P7z4YnCc7_xK"
   },
   "outputs": [],
   "source": [
    "import networkx as nx           # networkxモジュールを nx という別名で読み込み\n",
    "import matplotlib.pyplot as plt # 描画用モジュールの読み込み\n",
    "# 図の表示用のマジックコマンド \n",
    "%matplotlib inline              "
   ]
  },
  {
   "cell_type": "markdown",
   "metadata": {
    "colab_type": "text",
    "id": "GnJV7v2w7_xO"
   },
   "source": [
    "## 例題（グラフの生成と描画）\n",
    "\n",
    "3点からなる完全グラフ（すべての点の間に枝がある無向グラフ）を生成して，描画せよ．\n",
    "\n",
    "以下の3通りの方法を示す．\n",
    "\n",
    "*  一番簡単で単純な方法（これが基本）\n",
    "* forループを使う方法（点の数が増えてきたらこれを使う）\n",
    "* 関数を使って一発（教科書やマニュアルをよく読もう）"
   ]
  },
  {
   "cell_type": "code",
   "execution_count": null,
   "metadata": {
    "colab": {
     "base_uri": "https://localhost:8080/",
     "height": 371
    },
    "colab_type": "code",
    "id": "-ySUzdiX7_xP",
    "outputId": "e2242c68-99a8-4652-9cf0-6b8348d8fb1a"
   },
   "outputs": [],
   "source": [
    "G = nx.Graph()       # グラフのインスタンスを生成\n",
    "G.add_edge( 1,  2)   # 枝を追加\n",
    "G.add_edge( 1,  3)   # 枝を追加\n",
    "G.add_edge( 2,  3)   # 枝を追加\n",
    "nx.draw(G)           # グラフを描画\n",
    "print(G.nodes)\n",
    "print(G.edges)"
   ]
  },
  {
   "cell_type": "code",
   "execution_count": null,
   "metadata": {
    "colab": {
     "base_uri": "https://localhost:8080/",
     "height": 336
    },
    "colab_type": "code",
    "id": "9hVwMHBI7_xT",
    "outputId": "2c1c16cb-b6af-44cd-84e4-54c70b87f34a"
   },
   "outputs": [],
   "source": [
    "G = nx.Graph()       # グラフのインスタンスを生成\n",
    "for i in range(3):\n",
    "    for j in range(3):\n",
    "        if i<j: #無向グラフなので，iより大きいjの場合だけ枝を生成\n",
    "            G.add_edge(i, j)\n",
    "nx.draw(G)           # グラフを描画"
   ]
  },
  {
   "cell_type": "code",
   "execution_count": null,
   "metadata": {
    "colab": {
     "base_uri": "https://localhost:8080/",
     "height": 336
    },
    "colab_type": "code",
    "id": "0Wb2QwOa7_xX",
    "outputId": "64ab91e2-207b-48b4-e413-de381daddc20"
   },
   "outputs": [],
   "source": [
    "G=nx.complete_graph(3) #完全グラフを生成するcomplete_graph関数を利用\n",
    "nx.draw(G)"
   ]
  },
  {
   "cell_type": "markdown",
   "metadata": {
    "colab_type": "text",
    "id": "7P9erahh7_xa"
   },
   "source": [
    "## 問題（グラフの生成と描画）\n",
    "\n",
    "* 5点の完全グラフを生成し，描画せよ．\n",
    "* $3 \\times 3$ の格子グラフを生成し，描画せよ．（教科書 p.283参照）"
   ]
  },
  {
   "cell_type": "code",
   "execution_count": null,
   "metadata": {
    "colab": {},
    "colab_type": "code",
    "id": "95kSJVxM7_xb"
   },
   "outputs": [],
   "source": []
  },
  {
   "cell_type": "code",
   "execution_count": null,
   "metadata": {
    "colab": {},
    "colab_type": "code",
    "id": "SlQ6Qs7x7_xc"
   },
   "outputs": [],
   "source": []
  },
  {
   "cell_type": "markdown",
   "metadata": {
    "colab_type": "text",
    "id": "cbMRBMky7_xe"
   },
   "source": [
    "## 追加問題\n",
    "\n",
    "* 以下のグラフ生成から好きなものを3つ生成し，描画せよ．\n",
    "\n",
    "* 教科書pp.290-291を参照し，円上レイアウト，バネのレイアウト，スペクトルレイアウトで描画せよ．"
   ]
  },
  {
   "cell_type": "code",
   "execution_count": null,
   "metadata": {
    "colab": {},
    "colab_type": "code",
    "id": "Up8sJHRA7_xf"
   },
   "outputs": [],
   "source": [
    "# 様々なグラフ\n",
    "G=nx.cycle_graph(6)\n",
    "G=nx.balanced_tree(2,2)\n",
    "G=nx.complete_graph(5)\n",
    "G=nx.complete_bipartite_graph(3,3)\n",
    "G=nx.grid_2d_graph(3,3)\n",
    "G=nx.hypercube_graph(4)\n",
    "G=nx.chvatal_graph()\n",
    "G=nx.cubical_graph()\n",
    "G=nx.octahedral_graph()\n",
    "G=nx.dodecahedral_graph()\n",
    "G=nx.icosahedral_graph()\n",
    "G=nx.petersen_graph()\n",
    "G=nx.truncated_cube_graph()\n",
    "G=nx.truncated_tetrahedron_graph()\n",
    "G=nx.tutte_graph()\n",
    "G=nx.fast_gnp_random_graph(30,0.1)\n",
    "G=nx.random_geometric_graph(10,0.2)\n",
    "G=nx.bipartite.random_graph(10,30,0.3)\n",
    "G=nx.bipartite.gnmk_random_graph(10,30,50)"
   ]
  },
  {
   "cell_type": "code",
   "execution_count": null,
   "metadata": {
    "colab": {},
    "colab_type": "code",
    "id": "t4fGu1zL7_xh"
   },
   "outputs": [],
   "source": []
  },
  {
   "cell_type": "code",
   "execution_count": null,
   "metadata": {
    "colab": {},
    "colab_type": "code",
    "id": "70j37qkv7_xk"
   },
   "outputs": [],
   "source": []
  },
  {
   "cell_type": "code",
   "execution_count": null,
   "metadata": {
    "colab": {},
    "colab_type": "code",
    "id": "wzaBEeYg7_xm"
   },
   "outputs": [],
   "source": []
  },
  {
   "cell_type": "markdown",
   "metadata": {
    "colab_type": "text",
    "id": "Wa0QYmdl7_xo"
   },
   "source": [
    "## 例題 （最短路）\n",
    "\n",
    "八千代緑が丘から越中島までの電車による経路を求めたい．\n",
    "\n",
    "枝ごとの移動時間と移動費用を入力して，最短時間パスと最小費用パスを求めよ．\n",
    "\n",
    "乗り換えの待ち時間は無視してよいが，徒歩の時間は考慮せよ．\n",
    "\n"
   ]
  },
  {
   "cell_type": "code",
   "execution_count": null,
   "metadata": {
    "colab": {
     "base_uri": "https://localhost:8080/",
     "height": 52
    },
    "colab_type": "code",
    "id": "N_8KhupP7_xo",
    "outputId": "2de7f31d-0795-4f18-8354-7c78a0872669"
   },
   "outputs": [],
   "source": [
    "G = nx.Graph()\n",
    "G.add_edge('八千代緑が丘','西船橋', weight=15, cost=490)\n",
    "G.add_edge('西船橋', '門前仲町', weight=20, cost=230)\n",
    "G.add_edge('門前仲町', '越中島', weight=10, cost=0)\n",
    "G.add_edge('西船橋', '越中島', weight=24, cost=380)\n",
    "\n",
    "path = nx.dijkstra_path(G,'八千代緑が丘','越中島')\n",
    "print('最短時間パス', path)\n",
    "\n",
    "path = nx.dijkstra_path(G,'八千代緑が丘','越中島',weight='cost')\n",
    "print('最小費用パス', path )"
   ]
  },
  {
   "cell_type": "markdown",
   "metadata": {
    "colab_type": "text",
    "id": "6gTR1dSR7_xr"
   },
   "source": [
    "## 問題\n",
    "\n",
    "自宅から大学（船舶海洋棟）までの最短時間と最小費用のパスを求めるためのネットワークを作成し，最短時間パスと最小費用パスを求めよ．\n",
    "\n",
    "ただし大学から徒歩圏の学生は，自宅もしくは親戚の家からのパスを求めよ．\n"
   ]
  },
  {
   "cell_type": "code",
   "execution_count": null,
   "metadata": {
    "colab": {},
    "colab_type": "code",
    "id": "tSGHFNJ-7_xs"
   },
   "outputs": [],
   "source": []
  }
 ],
 "metadata": {
  "colab": {
   "collapsed_sections": [],
   "include_colab_link": true,
   "name": "networkx1.ipynb",
   "provenance": [],
   "version": "0.3.2"
  },
  "kernelspec": {
   "display_name": "Python 3",
   "language": "python",
   "name": "python3"
  },
  "language_info": {
   "codemirror_mode": {
    "name": "ipython",
    "version": 3
   },
   "file_extension": ".py",
   "mimetype": "text/x-python",
   "name": "python",
   "nbconvert_exporter": "python",
   "pygments_lexer": "ipython3",
   "version": "3.5.2"
  }
 },
 "nbformat": 4,
 "nbformat_minor": 1
}
